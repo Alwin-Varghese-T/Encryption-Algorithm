{
  "nbformat": 4,
  "nbformat_minor": 0,
  "metadata": {
    "colab": {
      "provenance": [],
      "authorship_tag": "ABX9TyO882ZE6SHwzInnm4p+lyJI",
      "include_colab_link": true
    },
    "kernelspec": {
      "name": "python3",
      "display_name": "Python 3"
    },
    "language_info": {
      "name": "python"
    }
  },
  "cells": [
    {
      "cell_type": "markdown",
      "metadata": {
        "id": "view-in-github",
        "colab_type": "text"
      },
      "source": [
        "<a href=\"https://colab.research.google.com/github/Alwin-Varghese-T/Encryption-Algorithm/blob/main/asymmetric_encryption.ipynb\" target=\"_parent\"><img src=\"https://colab.research.google.com/assets/colab-badge.svg\" alt=\"Open In Colab\"/></a>"
      ]
    },
    {
      "cell_type": "markdown",
      "source": [
        "#**Asymmetric Encryption**\n",
        "\n",
        "Asymmetric encryption, also known as public-key cryptography, is a type of encryption that uses a pair of keys to encrypt and decrypt data. The pair of keys includes a public key, which can be shared with anyone, and a private key, which is kept secret by the owner. the sender uses the recipient’s public key to encrypt the data. The recipient then uses their private key to decrypt the data.\n",
        "\n"
      ],
      "metadata": {
        "id": "jlupj9b2IjtV"
      }
    },
    {
      "cell_type": "markdown",
      "source": [
        "##1. RSA (Rivest Shamir Adleman)\n",
        "The RSA (Rivest-Shamir-Adleman) algorithm is a public-key encryption system used for secure data transmission. Here's a step-by-step explanation of how it works:\n",
        "###1. Key Generation:\n",
        "*  Choose two distinct prime numbers p and q. These are kept secret.\n",
        "*  Compute n = p * q. n is used as the modulus for both the public and private keys.\n",
        "*  Compute the totient phi = (p - 1) * (q - 1).\n",
        "* Choose an integer e such that 1 < e < phi and e and phi are coprime. e is the public key exponent.\n",
        "* Compute d to satisfy the congruence relation d * e ≡ 1 (mod phi). d is the private key exponent.\n",
        "\n",
        "###2. Encryption:\n",
        "\n",
        "* The public key consists of e and n.\n",
        "* To encrypt a plaintext P, compute the ciphertext C as C = P^e mod n.\n",
        "\n",
        "###3. Decryption:\n",
        "* The private key consists of d and n.\n",
        "* To decrypt the ciphertext C, compute the plaintext P as P = C^d mod n.\n",
        "\n",
        "\n"
      ],
      "metadata": {
        "id": "XF3NeN-FRJ4C"
      }
    },
    {
      "cell_type": "code",
      "source": [
        "import random\n",
        "\n",
        "def generate_keypair(p, q):\n",
        "    n = p * q\n",
        "    phi = (p - 1) * (q - 1)\n",
        "\n",
        "    e = random.randrange(1, phi)\n",
        "    d = mod_inverse(e, phi)\n",
        "    return ((e, n), (d, n))\n",
        "\n",
        "def mod_inverse(a, m):\n",
        "    def extended_gcd(a, b):\n",
        "        if a == 0:\n",
        "            return (b, 0, 1)\n",
        "        else:\n",
        "            gcd, x, y = extended_gcd(b % a, a)\n",
        "            return (gcd, y - (b // a) * x, x)\n",
        "\n",
        "    gcd, x, y = extended_gcd(a, m)\n",
        "    if gcd != 1:\n",
        "        raise ValueError(\"Modular inverse does not exist\")\n",
        "    else:\n",
        "        return x % m\n",
        "\n",
        "def encrypt(public_key, message):\n",
        "    e, n = public_key\n",
        "    encrypted_message = [pow(ord(char), e, n) for char in message]\n",
        "    return encrypted_message\n",
        "\n",
        "def decrypt(private_key, encrypted_message):\n",
        "    d, n = private_key\n",
        "    decrypted_message = [chr(pow(char, d, n)) for char in encrypted_message]\n",
        "    return \"\".join(decrypted_message)\n",
        "\n",
        "# Example usage\n",
        "p = 17\n",
        "q = 23\n",
        "public_key, private_key = generate_keypair(p, q)\n",
        "\n",
        "message = \"Hello, world!\"\n",
        "encrypted_message = encrypt(public_key, message)\n",
        "decrypted_message = decrypt(private_key, encrypted_message)\n",
        "\n",
        "print(\"Original message:\", message)\n",
        "print(\"Encrypted message:\", encrypted_message)\n",
        "print(\"Decrypted message:\", decrypted_message)\n"
      ],
      "metadata": {
        "colab": {
          "base_uri": "https://localhost:8080/"
        },
        "id": "wYOOnb-SRKN8",
        "outputId": "81e47c43-75ce-4194-d45b-42950408974f"
      },
      "execution_count": 6,
      "outputs": [
        {
          "output_type": "stream",
          "name": "stdout",
          "text": [
            "Original message: Hello, world!\n",
            "Encrypted message: [98, 220, 12, 12, 83, 388, 128, 170, 83, 45, 12, 349, 67]\n",
            "Decrypted message: Hello, world!\n"
          ]
        }
      ]
    },
    {
      "cell_type": "markdown",
      "source": [
        "##2. ElGamal encryption:\n",
        "\n",
        "###1. Key Generation:\n",
        "* Generate a large prime number p.\n",
        "* Choose a random number g between 2 and p-2.\n",
        "* Choose a random private key x between 1 and p-1.\n",
        "* Compute the public key y = g^x mod p.\n",
        "\n",
        "* The public key is (p, g, y) and the private key is x.\n",
        "\n",
        "###2. Encryption:\n",
        "* Convert the plaintext to a list of integers.\n",
        "* Generate a random number k between 1 and p-1.\n",
        "* Compute the ciphertext c1 = g^k mod p.\n",
        "* Compute the shared secret s = y^k mod p.\n",
        "\n",
        "* Compute the ciphertext c2 = plaintext_int * s mod p for each integer in the plaintext.\n",
        "* Compute the shared secret s = c1^x mod p.\n",
        "\n",
        "###3. Decryption:\n",
        "* Compute the shared secret s = c1^x mod p.\n",
        "* Compute the inverse of s mod p.\n",
        "* Compute the plaintext by multiplying each element of c2 by s_inverse mod p.\n",
        "* Convert the plaintext back to a string.\n"
      ],
      "metadata": {
        "id": "drm0JrZdVrf9"
      }
    },
    {
      "cell_type": "code",
      "source": [
        "\n",
        "import random\n",
        "from sympy import randprime\n",
        "\n",
        "def generate_keys():\n",
        "\n",
        "    p = get_large_prime()\n",
        "\n",
        "    g = random.randint(2, p-2)\n",
        "    x = random.randint(1, p-1)\n",
        "    y = pow(g, x, p)\n",
        "\n",
        "    return (p, g, y), (p, x)\n",
        "\n",
        "def encrypt(public_key, plaintext):\n",
        "    p, g, y = public_key\n",
        "\n",
        "    plaintext_int = [ord(c) for c in plaintext]\n",
        "    k = random.randint(1, p-1)\n",
        "\n",
        "\n",
        "    c1 = pow(g, k, p)\n",
        "\n",
        "    s = pow(y, k, p)\n",
        "\n",
        "\n",
        "    c2 = [(plaintext_int[i] * s) % p for i in range(len(plaintext_int))]\n",
        "\n",
        "    return c1, c2\n",
        "\n",
        "def decrypt(private_key, ciphertext):\n",
        "    p, x = private_key\n",
        "    c1, c2 = ciphertext\n",
        "\n",
        "\n",
        "    s = pow(c1, x, p)\n",
        "\n",
        "    s_inverse = pow(s, -1, p)\n",
        "\n",
        "    plaintext_int = [(c2[i] * s_inverse) % p for i in range(len(c2))]\n",
        "\n",
        "\n",
        "    plaintext = ''.join([chr(c) for c in plaintext_int])\n",
        "\n",
        "    return plaintext\n",
        "\n",
        "def get_large_prime():\n",
        "    return randprime(1e10, 1e11)\n",
        "\n",
        "# Example usage\n",
        "public_key, private_key = generate_keys()\n",
        "plaintext = \"Hello, world!\"\n",
        "ciphertext = encrypt(public_key, plaintext)\n",
        "decrypted_text = decrypt(private_key, ciphertext)\n",
        "\n",
        "print(\"Plaintext:\", plaintext)\n",
        "print(\"Ciphertext:\", ciphertext)\n",
        "print(\"Decrypted text:\", decrypted_text)"
      ],
      "metadata": {
        "colab": {
          "base_uri": "https://localhost:8080/"
        },
        "id": "NtjPr8alWLjn",
        "outputId": "0ab01e22-8544-44e2-8f38-e404c52ea12f"
      },
      "execution_count": 15,
      "outputs": [
        {
          "output_type": "stream",
          "name": "stdout",
          "text": [
            "Plaintext: Hello, world!\n",
            "Ciphertext: (51206237356, [49038650525, 60581250372, 31339856056, 31339856056, 79119429537, 81567988326, 59322173328, 9513733406, 79119429537, 42462763555, 31339856056, 16509312724, 18957871513])\n",
            "Decrypted text: Hello, world!\n"
          ]
        }
      ]
    }
  ]
}