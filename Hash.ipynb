{
  "nbformat": 4,
  "nbformat_minor": 0,
  "metadata": {
    "colab": {
      "provenance": [],
      "authorship_tag": "ABX9TyP7vAyRIxnrTPE8Fdh0KfU+",
      "include_colab_link": true
    },
    "kernelspec": {
      "name": "python3",
      "display_name": "Python 3"
    },
    "language_info": {
      "name": "python"
    }
  },
  "cells": [
    {
      "cell_type": "markdown",
      "metadata": {
        "id": "view-in-github",
        "colab_type": "text"
      },
      "source": [
        "<a href=\"https://colab.research.google.com/github/Alwin-Varghese-T/Encryption-Algorithm/blob/main/Hash.ipynb\" target=\"_parent\"><img src=\"https://colab.research.google.com/assets/colab-badge.svg\" alt=\"Open In Colab\"/></a>"
      ]
    },
    {
      "cell_type": "markdown",
      "source": [
        "# Hash Function\n",
        "Hashing is the process of generating a value from a text or a list of numbers using a mathematical function known as a hash function.A Hash Function is a function that converts a given numeric or alphanumeric key to a small practical integer value. The mapped integer value is used as an index in the hash table. In simple terms, a hash function maps a significant number or string to a small integer that can be used as the index in the hash table.\n",
        "\n",
        "\n",
        "### 1. Create a Random Salt:\n",
        "* The create_random_salt function generates a random salt of a specified length (default is 16 bytes). It uses the os.urandom function to generate the random bytes.\n",
        "\n",
        "###2. Prepare the Input Value:\n",
        "* A random UUID (Universally Unique Identifier) is generated and converted to a string. This is the value that will be hashed. UUIDs are often used for identifying information that needs to be unique within a system or network.\n",
        "###3. Create a SHA-2 Hash:\n",
        "* The create_sha2_hash function takes the input value and a salt, concatenates them, and then creates a SHA-256 hash of the result.\n",
        "* The input value is first encoded as bytes before concatenation. This is necessary because the hashlib.sha256 function expects a bytes-like object.\n",
        "* The hashlib.sha256 function is used to create the hash. This function implements the SHA-256 hash algorithm, which produces a 256-bit (32-byte) hash value. It's commonly used in cryptographic applications and protocols.\n",
        "\n",
        "###4. Output the Hash:\n",
        "* The resulting hash is a bytes object, so the .digest() method is used to return the digest of the data passed to the update() method so far. This is a bytes object which can contain non-ASCII characters, including null bytes.\n",
        "* To print the hash in a readable format, the .hex() method is used to convert the bytes to a string of hexadecimal digits.\n"
      ],
      "metadata": {
        "id": "iW5OKS90Zl_J"
      }
    },
    {
      "cell_type": "code",
      "source": [
        "import hashlib\n",
        "import uuid\n",
        "import os\n",
        "\n",
        "def create_random_salt(length=16):\n",
        "    return os.urandom(length)\n",
        "\n",
        "def create_sha2_hash(input_value, salt):\n",
        "    value_to_hash = salt + input_value.encode()\n",
        "    return hashlib.sha256(value_to_hash).digest()\n",
        "\n",
        "if __name__ == \"__main__\":\n",
        "    salt = create_random_salt()\n",
        "    print(\"SALT_VALUE: \", salt.hex())\n",
        "    value_to_hash = str(uuid.uuid4())\n",
        "    hash1 = create_sha2_hash(value_to_hash, salt)\n",
        "    print(\"HASH1_VALUE: \", hash1.hex())\n",
        "    hash2 = create_sha2_hash(value_to_hash, salt)\n",
        "    print(\"HASH2_VALUE: \", hash2.hex())"
      ],
      "metadata": {
        "colab": {
          "base_uri": "https://localhost:8080/"
        },
        "id": "0Gmanb1GZm8d",
        "outputId": "5a624c3e-6896-4dd1-ed20-6e5265553189"
      },
      "execution_count": 2,
      "outputs": [
        {
          "output_type": "stream",
          "name": "stdout",
          "text": [
            "SALT_VALUE:  3b8dd4ea3c67aa41f96d186d1d023510\n",
            "HASH1_VALUE:  752327a728d633dc5b3ccb014d21b5cd85a50902b690c451686504f3fb15b378\n",
            "HASH2_VALUE:  752327a728d633dc5b3ccb014d21b5cd85a50902b690c451686504f3fb15b378\n"
          ]
        }
      ]
    }
  ]
}