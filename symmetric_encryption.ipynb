{
  "nbformat": 4,
  "nbformat_minor": 0,
  "metadata": {
    "colab": {
      "provenance": [],
      "authorship_tag": "ABX9TyMxlfoFn9a5+6nBs2p0/8k+",
      "include_colab_link": true
    },
    "kernelspec": {
      "name": "python3",
      "display_name": "Python 3"
    },
    "language_info": {
      "name": "python"
    }
  },
  "cells": [
    {
      "cell_type": "markdown",
      "metadata": {
        "id": "view-in-github",
        "colab_type": "text"
      },
      "source": [
        "<a href=\"https://colab.research.google.com/github/Alwin-Varghese-T/Encryption-Algorithm/blob/main/symmetric_encryption.ipynb\" target=\"_parent\"><img src=\"https://colab.research.google.com/assets/colab-badge.svg\" alt=\"Open In Colab\"/></a>"
      ]
    },
    {
      "cell_type": "markdown",
      "source": [
        "# **Symmetric Encryption Algorithms**\n",
        "\n",
        "A symmetric algorithm is a type of encryption where the same key is used for both encryption and decryption of the data. This means that the sender and receiver must both know and use the same secret key"
      ],
      "metadata": {
        "id": "UiHUzIrd0MnT"
      }
    },
    {
      "cell_type": "markdown",
      "source": [
        "## **1.Caesar Cipher**\n",
        "\n",
        " The Caesar cipher is a type of substitution cipher where each letter in the plaintext is shifted a certain number of places down or up the alphabet. In the case of a shift of 3, 'A' would be replaced by 'D', 'B' would become 'E', and so on. The mathematical formula used in the Caesar cipher is:\n",
        "\n",
        "####  1. For uppercase letters:\n",
        "\n",
        "*   Convert the letter to its ASCII value using the ord() function\n",
        "*   Subtract 65 (the ASCII value of 'A') to bring the value within the range of 0-25 (corresponding to A-Z).\n",
        "Add the shift value.\n",
        "\n",
        "\n",
        "*   Add the shift value.\n",
        "*   Use the modulus operator % 26 to ensure the result falls within the range 0-25.\n",
        "\n",
        "*   Add 65 back to shift the range back to the ASCII values of uppercase letters.\n",
        "\n",
        "*   Convert the ASCII value back to a character using the chr() function.\n",
        "\n",
        "### 2. For lowercase letters:\n",
        "*   The process is the same, but subtract and add 97 instead of 65, because 97 is the ASCII value of 'a'.\n",
        "\n",
        "### 3. For non-alphabetical characters:\n",
        "\n",
        "*   They are appended to the result as is, without any shifting.\n",
        "\n",
        "\n",
        "This process is repeated for each character in the plaintext to produce the ciphertext.\n",
        "\n",
        "\n",
        "\n"
      ],
      "metadata": {
        "id": "wHxvJ8Ys6RM_"
      }
    },
    {
      "cell_type": "code",
      "source": [
        "def caesar_cipher(text, shift):\n",
        "    result = \"\"\n",
        "    for char in text:\n",
        "        if char.isalpha():\n",
        "            if char.isupper():\n",
        "                result += chr((ord(char) - 65 + shift) % 26 + 65)\n",
        "            else:\n",
        "                result += chr((ord(char) - 97 + shift) % 26 + 97)\n",
        "        else:\n",
        "            result += char\n",
        "    return result\n",
        "\n",
        "# Example usage\n",
        "text = \"Hello, World!\"\n",
        "shift = 3\n",
        "encrypted_text = caesar_cipher(text, shift)\n",
        "print(\"Encrypted text:\", encrypted_text)\n",
        "decrypted_text = caesar_cipher(encrypted_text, -shift)\n",
        "print(\"Decrypted text:\", decrypted_text)"
      ],
      "metadata": {
        "colab": {
          "base_uri": "https://localhost:8080/"
        },
        "id": "th068cJ80M5d",
        "outputId": "e46df983-37ff-4ca9-dace-8d5eda768ceb"
      },
      "execution_count": 6,
      "outputs": [
        {
          "output_type": "stream",
          "name": "stdout",
          "text": [
            "Encrypted text: Khoor, Zruog!\n",
            "Decrypted text: Hello, World!\n"
          ]
        }
      ]
    },
    {
      "cell_type": "markdown",
      "source": [
        "\n",
        "## **2. Advanced Encryption Standard (AES)**\n",
        "The Advanced Encryption Standard (AES) is a symmetric encryption algorithm that operates on blocks of data. It's a complex algorithm.it is a complex algorithm:\n",
        "\n",
        "###1. Key Expansion:\n",
        "*   The initial key is expanded into an array of several round keys.\n",
        "\n",
        "###2. Initial Round:\n",
        "*   AddRoundKey: Each byte of the state is combined with a block of the round key using bitwise XOR.\n",
        "\n",
        "###3. Rounds:\n",
        "The number of rounds is dependent on the key size: 10 rounds for a 128-bit key, 12 rounds for a 192-bit key, and 14 rounds for a 256-bit key. Each round consists of four stages:\n",
        "\n",
        "*   SubBytes: A non-linear substitution step where each byte is replaced with another according to a lookup table (S-box).\n",
        "*   ShiftRows: A transposition step where each row of the state is shifted cyclically a certain number of steps.\n",
        "\n",
        "*   MixColumns: A mixing operation which operates on the columns of the state, combining the four bytes in each column using a linear transformation.\n",
        "*   AddRoundKey\n",
        "\n",
        "###4. Final Round (no MixColumns):\n",
        "*   SubBytes\n",
        "*   ShiftRows\n",
        "*   AddRoundKey\n",
        "\n",
        "\n",
        "The decryption process is the reverse of the encryption process, using the Inverse ShiftRows, Inverse SubBytes, Inverse MixColumns, and AddRoundKey operations"
      ],
      "metadata": {
        "id": "vI3reDAv-tLY"
      }
    },
    {
      "cell_type": "code",
      "source": [
        "%pip install pip install pycryptodome\n",
        "from Crypto.Cipher import AES\n",
        "from Crypto.Util.Padding import pad, unpad\n",
        "from Crypto.Random import get_random_bytes\n",
        "\n",
        "def encrypt(plaintext, key):\n",
        "    cipher = AES.new(key, AES.MODE_ECB)\n",
        "    ciphertext = cipher.encrypt(pad(plaintext, AES.block_size))\n",
        "    return ciphertext\n",
        "\n",
        "def decrypt(ciphertext, key):\n",
        "    cipher = AES.new(key, AES.MODE_ECB)\n",
        "    plaintext = unpad(cipher.decrypt(ciphertext), AES.block_size)\n",
        "    return plaintext\n",
        "\n",
        "# Example usage\n",
        "key = get_random_bytes(16)  # 128-bit key\n",
        "plaintext = b'This is a secret message'\n",
        "\n",
        "ciphertext = encrypt(plaintext, key)\n",
        "decrypted_text = decrypt(ciphertext, key)\n",
        "\n",
        "print('\\nCiphertext:', ciphertext)\n",
        "print('\\nDecrypted text:', decrypted_text)"
      ],
      "metadata": {
        "colab": {
          "base_uri": "https://localhost:8080/"
        },
        "id": "gT-bgrk4_TSb",
        "outputId": "604950ad-313e-480e-8690-754bb493dfc6"
      },
      "execution_count": 11,
      "outputs": [
        {
          "output_type": "stream",
          "name": "stdout",
          "text": [
            "Requirement already satisfied: pip in /usr/local/lib/python3.10/dist-packages (23.1.2)\n",
            "Requirement already satisfied: install in /usr/local/lib/python3.10/dist-packages (1.3.5)\n",
            "Requirement already satisfied: pycryptodome in /usr/local/lib/python3.10/dist-packages (3.20.0)\n",
            "\n",
            "Ciphertext: b'`\\xb4\\xcbG\\x08\\xa8zu\\x16\\xdc\\xfcotk\\xa5\\xb7V\\x1b\\xe9\\x06to\\xa5k#>%\\xeaUv\\xb4\\x83'\n",
            "\n",
            "Decrypted text: b'This is a secret message'\n"
          ]
        }
      ]
    }
  ]
}